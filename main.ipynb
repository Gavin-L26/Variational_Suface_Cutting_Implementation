{
 "cells": [
  {
   "cell_type": "markdown",
   "metadata": {},
   "source": [
    "# Variational Cutting\n",
    "By Nicholas Sharp and Keenan Crane\n",
    "\n",
    "Implemented by: Ming Liu\n"
   ]
  },
  {
   "cell_type": "markdown",
   "metadata": {},
   "source": [
    "import Necessary modules"
   ]
  },
  {
   "cell_type": "code",
   "execution_count": 1,
   "metadata": {},
   "outputs": [],
   "source": [
    "import igl\n",
    "import meshplot as mp\n",
    "import numpy as np\n",
    "import scipy as sp\n",
    "import math \n",
    "from src.cut_step import do_cut_step"
   ]
  },
  {
   "cell_type": "markdown",
   "metadata": {},
   "source": [
    "Import mesh object"
   ]
  },
  {
   "cell_type": "code",
   "execution_count": 2,
   "metadata": {},
   "outputs": [
    {
     "data": {
      "application/vnd.jupyter.widget-view+json": {
       "model_id": "956f8b667cfb4bb78b8eef47f0b7b3d8",
       "version_major": 2,
       "version_minor": 0
      },
      "text/plain": [
       "Renderer(camera=PerspectiveCamera(children=(DirectionalLight(color='white', intensity=0.6, position=(0.0, 0.10…"
      ]
     },
     "metadata": {},
     "output_type": "display_data"
    },
    {
     "data": {
      "text/plain": [
       "<meshplot.Viewer.Viewer at 0x170d3e5ba90>"
      ]
     },
     "execution_count": 2,
     "metadata": {},
     "output_type": "execute_result"
    }
   ],
   "source": [
    "v, f = igl.read_triangle_mesh(\"./data/spot.obj\")\n",
    "mp.plot(v, f)"
   ]
  },
  {
   "cell_type": "markdown",
   "metadata": {},
   "source": [
    "Initialize a starting cut"
   ]
  },
  {
   "cell_type": "code",
   "execution_count": 3,
   "metadata": {},
   "outputs": [
    {
     "data": {
      "application/vnd.jupyter.widget-view+json": {
       "model_id": "1f440dbd26df4e1db903c163cd0f10ff",
       "version_major": 2,
       "version_minor": 0
      },
      "text/plain": [
       "Renderer(camera=PerspectiveCamera(children=(DirectionalLight(color='white', intensity=0.6, position=(0.0, 0.10…"
      ]
     },
     "metadata": {},
     "output_type": "display_data"
    },
    {
     "data": {
      "text/plain": [
       "1"
      ]
     },
     "execution_count": 3,
     "metadata": {},
     "output_type": "execute_result"
    }
   ],
   "source": [
    "left_face = []\n",
    "right_face = []\n",
    "for face in f:\n",
    "    if all(v[p][0] < 0.1 for p in face):\n",
    "        left_face.append(face)\n",
    "    else:\n",
    "        right_face.append(face)\n",
    "\n",
    "left_face = np.array(left_face)\n",
    "right_face = np.array(right_face)\n",
    "initial_bnd = igl.boundary_loop(left_face)\n",
    "bnd_edges = igl.boundary_facets(left_face)\n",
    "\n",
    "vt = np.arange(v.shape[0])\n",
    "d_l = igl.exact_geodesic(v, left_face, initial_bnd, vt)\n",
    "d_r = igl.exact_geodesic(v, right_face, initial_bnd, vt)\n",
    "d_r = -d_r\n",
    "\n",
    "d = d_l + d_r\n",
    "\n",
    "p = mp.plot(v, f, d, shading={\"wireframe\": False})\n",
    "bnd_edge = igl.path_to_edges(initial_bnd, True)\n",
    "p.add_edges(v, bnd_edge, shading={\"line_color\": \"red\"})"
   ]
  },
  {
   "cell_type": "markdown",
   "metadata": {},
   "source": [
    "Call do_cut_step Method"
   ]
  },
  {
   "cell_type": "markdown",
   "metadata": {},
   "source": [
    "v: #v by 3 mesh vertices\n",
    "\n",
    "f: #v by 3 mesh faces\n",
    "\n",
    "d: #v list of Signed Distance Function function value from the cut curve\n",
    "\n",
    "n: number of iterations\n",
    "\n",
    "initial_bnd: less than #v list of cut boundary vertices\n"
   ]
  },
  {
   "cell_type": "code",
   "execution_count": 4,
   "metadata": {},
   "outputs": [
    {
     "data": {
      "application/vnd.jupyter.widget-view+json": {
       "model_id": "c3b0fe8c59e0472592f588bba855c0ec",
       "version_major": 2,
       "version_minor": 0
      },
      "text/plain": [
       "Renderer(camera=PerspectiveCamera(children=(DirectionalLight(color='white', intensity=0.6, position=(0.0, 0.10…"
      ]
     },
     "metadata": {},
     "output_type": "display_data"
    },
    {
     "data": {
      "application/vnd.jupyter.widget-view+json": {
       "model_id": "d5606a307f2e4f32b5c8877fe9963da4",
       "version_major": 2,
       "version_minor": 0
      },
      "text/plain": [
       "Renderer(camera=PerspectiveCamera(children=(DirectionalLight(color='white', intensity=0.6, position=(0.0, 0.10…"
      ]
     },
     "metadata": {},
     "output_type": "display_data"
    }
   ],
   "source": [
    "n = 10\n",
    "d_iter_bool = do_cut_step(v, f, d, n, initial_bnd)"
   ]
  },
  {
   "cell_type": "code",
   "execution_count": 5,
   "metadata": {},
   "outputs": [
    {
     "data": {
      "application/vnd.jupyter.widget-view+json": {
       "model_id": "0d796fbb26134cc58f25b51c5a64b206",
       "version_major": 2,
       "version_minor": 0
      },
      "text/plain": [
       "Renderer(camera=PerspectiveCamera(children=(DirectionalLight(color='white', intensity=0.6, position=(0.4998895…"
      ]
     },
     "metadata": {},
     "output_type": "display_data"
    },
    {
     "data": {
      "text/plain": [
       "<meshplot.Viewer.Viewer at 0x170f1d81dc0>"
      ]
     },
     "execution_count": 5,
     "metadata": {},
     "output_type": "execute_result"
    }
   ],
   "source": [
    "v2, f2 = igl.read_triangle_mesh(\"./data/cactus.obj\")\n",
    "mp.plot(v2, f2)"
   ]
  },
  {
   "cell_type": "code",
   "execution_count": 6,
   "metadata": {},
   "outputs": [
    {
     "data": {
      "application/vnd.jupyter.widget-view+json": {
       "model_id": "e92e493519c94f61ae1b7282c18da38e",
       "version_major": 2,
       "version_minor": 0
      },
      "text/plain": [
       "Renderer(camera=PerspectiveCamera(children=(DirectionalLight(color='white', intensity=0.6, position=(0.4998895…"
      ]
     },
     "metadata": {},
     "output_type": "display_data"
    },
    {
     "data": {
      "text/plain": [
       "1"
      ]
     },
     "execution_count": 6,
     "metadata": {},
     "output_type": "execute_result"
    }
   ],
   "source": [
    "adj_list = igl.adjacency_list(f2)\n",
    "\n",
    "heat_d = igl.heat_geodesic(v2, f2, 1, np.array([0]))\n",
    "initial_bnd_2 = np.where((heat_d > 0.2)&(heat_d < 0.21))[0]\n",
    "\n",
    "initial_bnd_2 = np.array(initial_bnd_2).astype(int)\n",
    "\n",
    "left_face_2 = []\n",
    "right_face_2 = []\n",
    "for face in f2:\n",
    "    if any(heat_d[face[i]] > 0.21 for i in range(3)):\n",
    "        left_face_2.append(face)\n",
    "    else:\n",
    "        right_face_2.append(face)\n",
    "\n",
    "left_face_2 = np.array(left_face_2)\n",
    "right_face_2 = np.array(right_face_2)\n",
    "\n",
    "vt = np.arange(v2.shape[0])\n",
    "d_l = igl.exact_geodesic(v2, left_face_2, initial_bnd_2, vt)\n",
    "d_r = igl.exact_geodesic(v2, right_face_2, initial_bnd_2, vt)\n",
    "d_r = -d_r\n",
    "\n",
    "d2 = d_l + d_r\n",
    "\n",
    "p = mp.plot(v2, f2, d2, shading={\"wireframe\": False})\n",
    "p.add_points(v2[initial_bnd_2])"
   ]
  },
  {
   "cell_type": "code",
   "execution_count": 7,
   "metadata": {},
   "outputs": [
    {
     "data": {
      "application/vnd.jupyter.widget-view+json": {
       "model_id": "555d993e5351422b9f20d20f6337e5e1",
       "version_major": 2,
       "version_minor": 0
      },
      "text/plain": [
       "Renderer(camera=PerspectiveCamera(children=(DirectionalLight(color='white', intensity=0.6, position=(0.4998895…"
      ]
     },
     "metadata": {},
     "output_type": "display_data"
    },
    {
     "data": {
      "application/vnd.jupyter.widget-view+json": {
       "model_id": "e3f2241653f24545bf4aaf8f073d0efc",
       "version_major": 2,
       "version_minor": 0
      },
      "text/plain": [
       "Renderer(camera=PerspectiveCamera(children=(DirectionalLight(color='white', intensity=0.6, position=(0.4998895…"
      ]
     },
     "metadata": {},
     "output_type": "display_data"
    }
   ],
   "source": [
    "d_iter_bool = do_cut_step(v2, f2, d2, 30, initial_bnd_2)"
   ]
  }
 ],
 "metadata": {
  "kernelspec": {
   "display_name": "Python 3.9.7 64-bit",
   "language": "python",
   "name": "python3"
  },
  "language_info": {
   "codemirror_mode": {
    "name": "ipython",
    "version": 3
   },
   "file_extension": ".py",
   "mimetype": "text/x-python",
   "name": "python",
   "nbconvert_exporter": "python",
   "pygments_lexer": "ipython3",
   "version": "3.9.7"
  },
  "orig_nbformat": 4,
  "vscode": {
   "interpreter": {
    "hash": "b147bf133b2dfaa84095a95465264c6f479fa78e630ab6c049dcd6163c4aa970"
   }
  }
 },
 "nbformat": 4,
 "nbformat_minor": 2
}
